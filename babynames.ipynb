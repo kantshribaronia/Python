{
 "cells": [
  {
   "cell_type": "code",
   "execution_count": 15,
   "metadata": {},
   "outputs": [
    {
     "name": "stdout",
     "output_type": "stream",
     "text": [
      "hkan-tshri@gmail.com\n",
      "upbcd@ymail.com\n",
      "happenwow@groupmail.com\n"
     ]
    }
   ],
   "source": [
    "import re\n",
    "\n",
    "text = 'I have an email embedded hkan-tshri@gmail.comere. Still hung upbcd@ymail.comthat this can actuallyy happenwow@groupmail.com'\n",
    "matches = re.findall(r'[\\w.-]+@[\\w]+.com', text)\n",
    "\n",
    "if match:\n",
    "    for match in matches:\n",
    "     print(match)\n",
    "else:\n",
    "    print('not found')"
   ]
  },
  {
   "cell_type": "code",
   "execution_count": 74,
   "metadata": {},
   "outputs": [
    {
     "ename": "SyntaxError",
     "evalue": "invalid syntax (<ipython-input-74-6ea3a7c37725>, line 1)",
     "output_type": "error",
     "traceback": [
      "\u001b[1;36m  File \u001b[1;32m\"<ipython-input-74-6ea3a7c37725>\"\u001b[1;36m, line \u001b[1;32m1\u001b[0m\n\u001b[1;33m    python setup.py install\u001b[0m\n\u001b[1;37m               ^\u001b[0m\n\u001b[1;31mSyntaxError\u001b[0m\u001b[1;31m:\u001b[0m invalid syntax\n"
     ]
    }
   ],
   "source": []
  },
  {
   "cell_type": "code",
   "execution_count": 44,
   "metadata": {},
   "outputs": [
    {
     "name": "stdout",
     "output_type": "stream",
     "text": [
      "a sucka\n",
      "of sucker\n",
      "they sucked\n"
     ]
    }
   ],
   "source": []
  },
  {
   "cell_type": "code",
   "execution_count": 73,
   "metadata": {},
   "outputs": [
    {
     "name": "stdout",
     "output_type": "stream",
     "text": [
      "1990\n",
      "1992\n"
     ]
    }
   ],
   "source": [
    "\n",
    "import sys\n",
    "import re\n",
    "\n",
    "def extract_names(filename):\n",
    "  f = open('C:\\\\Users\\\\kantshribaronia\\\\Downloads\\\\google-python-exercises\\\\google-python-exercises\\\\babynames\\\\'+filename+'.html', 'r')\n",
    "  text = f.read()\n",
    "  #print(text)\n",
    "  findingyear = re.search(r'Popularity\\sin\\s(\\d\\d\\d\\d)', text)\n",
    "  year = findingyear.group(1)\n",
    "  print(year)\n",
    "  return\n",
    "\n",
    "\n",
    "def main():\n",
    "  args = ['baby1990','baby1992']\n",
    "\n",
    "  if not args:\n",
    "   # print ('usage: [--summaryfile] file [file ...]')\n",
    "    sys.exit(1)\n",
    "\n",
    "  # Notice the summary flag and remove it from args if it is present.\n",
    "  summary = False\n",
    "  if args[0] == '--summaryfile':\n",
    "    summary = True\n",
    "    del args[0]\n",
    "    \n",
    "  for filename in args:\n",
    "    names = extract_names(filename)\n",
    "  \n",
    "  # For each filename, get the names, then either print the text output\n",
    "  # or write it to a summary file\n",
    "  \n",
    "if __name__ == '__main__':\n",
    "  main()"
   ]
  },
  {
   "cell_type": "code",
   "execution_count": null,
   "metadata": {},
   "outputs": [],
   "source": []
  }
 ],
 "metadata": {
  "kernelspec": {
   "display_name": "Python 3",
   "language": "python",
   "name": "python3"
  },
  "language_info": {
   "codemirror_mode": {
    "name": "ipython",
    "version": 3
   },
   "file_extension": ".py",
   "mimetype": "text/x-python",
   "name": "python",
   "nbconvert_exporter": "python",
   "pygments_lexer": "ipython3",
   "version": "3.6.5"
  }
 },
 "nbformat": 4,
 "nbformat_minor": 2
}
